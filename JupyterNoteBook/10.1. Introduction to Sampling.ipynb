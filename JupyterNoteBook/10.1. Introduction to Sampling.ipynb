{
 "cells": [
  {
   "cell_type": "code",
   "execution_count": 23,
   "id": "a33ca5e7",
   "metadata": {},
   "outputs": [],
   "source": [
    "import pandas as pd\n",
    "import numpy as np\n",
    "import matplotlib.pyplot as plt"
   ]
  },
  {
   "cell_type": "code",
   "execution_count": 4,
   "id": "043ce58c",
   "metadata": {},
   "outputs": [
    {
     "name": "stdout",
     "output_type": "stream",
     "text": [
      "Collecting pyarrow\n",
      "  Downloading pyarrow-10.0.1-cp39-cp39-win_amd64.whl (20.3 MB)\n",
      "Requirement already satisfied: numpy>=1.16.6 in c:\\users\\muhammad zeeshan\\anaconda3\\lib\\site-packages (from pyarrow) (1.21.5)\n",
      "Installing collected packages: pyarrow\n",
      "Successfully installed pyarrow-10.0.1\n"
     ]
    }
   ],
   "source": [
    "! pip install pyarrow"
   ]
  },
  {
   "cell_type": "code",
   "execution_count": 5,
   "id": "be15ef93",
   "metadata": {},
   "outputs": [],
   "source": [
    "spotify_population = pd.read_feather(r\"C:\\Muhammad Zeeshan\\ComputerAndProgramming\\Data Camp Journey\\02-Data Analyst with Python\\10 - Sampling in Python\\DataSet\\spotify_2000_2020.feather\")"
   ]
  },
  {
   "cell_type": "code",
   "execution_count": 8,
   "id": "4405e8c6",
   "metadata": {},
   "outputs": [
    {
     "name": "stdout",
     "output_type": "stream",
     "text": [
      "       acousticness                          artists  danceability  \\\n",
      "1764        0.04500                       ['Lady A']         0.656   \n",
      "7133        0.07320                      ['Scandal']         0.492   \n",
      "31542       0.04410                 ['Shania Twain']         0.723   \n",
      "37859       0.27200                ['George Strait']         0.520   \n",
      "3749        0.01540                          ['BTS']         0.636   \n",
      "...             ...                              ...           ...   \n",
      "9320        0.00448  ['Yung Joc', 'Dj Weedim remix']         0.754   \n",
      "16301       0.03830    ['Alan Walker', 'Marshmello']         0.620   \n",
      "11639       0.42100                   ['Ben Howard']         0.600   \n",
      "4662        0.50500           ['Jefferson Airplane']         0.501   \n",
      "41219       0.19300                    ['blackbear']         0.795   \n",
      "\n",
      "       duration_ms  duration_minutes  energy  explicit  \\\n",
      "1764      181000.0          3.016667   0.917       0.0   \n",
      "7133      226493.0          3.774883   0.935       0.0   \n",
      "31542     269400.0          4.490000   0.789       0.0   \n",
      "37859     209920.0          3.498667   0.461       0.0   \n",
      "3749      273992.0          4.566533   0.799       0.0   \n",
      "...            ...               ...     ...       ...   \n",
      "9320      164158.0          2.735967   0.471       1.0   \n",
      "16301     192480.0          3.208000   0.893       0.0   \n",
      "11639     260342.0          4.339033   0.547       0.0   \n",
      "4662      123453.0          2.057550   0.825       0.0   \n",
      "41219     134069.0          2.234483   0.505       1.0   \n",
      "\n",
      "                           id  instrumentalness   key  liveness  loudness  \\\n",
      "1764   1dFLowBW25EaL2OC7eKEa2          0.000732   0.0    0.0878    -4.652   \n",
      "7133   2ARO7celMseIwJvCMS2Mt2          0.000004   9.0    0.2080    -6.165   \n",
      "31542  3wimPgsJv0hEgP5A3sQ7Ag          0.000000   1.0    0.0612    -4.813   \n",
      "37859  2XFr2vzg0bMayzpkaQyUpa          0.000037   3.0    0.1060    -9.314   \n",
      "3749   1WpxXAGAGpF2OoVFCytYtS          0.000004   6.0    0.2180    -4.671   \n",
      "...                       ...               ...   ...       ...       ...   \n",
      "9320   40PPe4g7BcqzxddzeSgtZQ          0.000106  11.0    0.2830   -11.944   \n",
      "16301  2BcwzjPvVSkek2ZLdh7C9J          0.000304   4.0    0.1590    -1.718   \n",
      "11639  17bpxYmEJLHVdptkxtjHbh          0.010400  11.0    0.1130    -9.653   \n",
      "4662   7pTL00cPeIGhvVNlq5qP0k          0.000022   0.0    0.3610    -7.503   \n",
      "41219  2Y4DwuII6ZzFZxmvD1s5o5          0.000049   7.0    0.0643    -7.500   \n",
      "\n",
      "       mode                                               name  popularity  \\\n",
      "1764    1.0                                      You Look Good        60.0   \n",
      "7133    1.0                                     Goodbye to You        42.0   \n",
      "31542   1.0                              I'm Gonna Getcha Good        51.0   \n",
      "37859   1.0  I Cross My Heart - Pure Country Soundtrack Ver...        44.0   \n",
      "3749    1.0                                      Hold Me Tight        64.0   \n",
      "...     ...                                                ...         ...   \n",
      "9320    0.0                                     Its Going Down        43.0   \n",
      "16301   0.0                Sing Me to Sleep - Marshmello Remix        60.0   \n",
      "11639   1.0                                           The Fear        54.0   \n",
      "4662    1.0                            Volunteers - Remastered        46.0   \n",
      "41219   1.0                                      Different Hos        57.0   \n",
      "\n",
      "      release_date  speechiness    tempo  valence    year  \n",
      "1764    2017-06-09       0.0495  152.067    0.961  2017.0  \n",
      "7133          2008       0.0703  159.446    0.857  2008.0  \n",
      "31542   2002-01-01       0.0302  124.013    0.946  2002.0  \n",
      "37859   2004-01-01       0.0258  131.000    0.264  2004.0  \n",
      "3749    2016-05-02       0.2570  139.953    0.379  2016.0  \n",
      "...            ...          ...      ...      ...     ...  \n",
      "9320    2009-05-13       0.3760  172.208    0.636  2009.0  \n",
      "16301   2016-06-03       0.0436  101.089    0.160  2016.0  \n",
      "11639   2011-01-01       0.0313  125.909    0.444  2011.0  \n",
      "4662    2004-06-18       0.0346  106.923    0.814  2004.0  \n",
      "41219   2016-02-17       0.0537  102.024    0.439  2016.0  \n",
      "\n",
      "[1000 rows x 20 columns]\n"
     ]
    }
   ],
   "source": [
    "# Sample 1000 rows from spotify_population\n",
    "spotify_sample = spotify_population.sample(n=1000)\n",
    "\n",
    "# Print the sample\n",
    "print(spotify_sample)"
   ]
  },
  {
   "cell_type": "code",
   "execution_count": 11,
   "id": "6a9a6ce6",
   "metadata": {},
   "outputs": [
    {
     "data": {
      "text/html": [
       "<div>\n",
       "<style scoped>\n",
       "    .dataframe tbody tr th:only-of-type {\n",
       "        vertical-align: middle;\n",
       "    }\n",
       "\n",
       "    .dataframe tbody tr th {\n",
       "        vertical-align: top;\n",
       "    }\n",
       "\n",
       "    .dataframe thead th {\n",
       "        text-align: right;\n",
       "    }\n",
       "</style>\n",
       "<table border=\"1\" class=\"dataframe\">\n",
       "  <thead>\n",
       "    <tr style=\"text-align: right;\">\n",
       "      <th></th>\n",
       "      <th>acousticness</th>\n",
       "      <th>artists</th>\n",
       "      <th>danceability</th>\n",
       "      <th>duration_ms</th>\n",
       "      <th>duration_minutes</th>\n",
       "      <th>energy</th>\n",
       "      <th>explicit</th>\n",
       "      <th>id</th>\n",
       "      <th>instrumentalness</th>\n",
       "      <th>key</th>\n",
       "      <th>liveness</th>\n",
       "      <th>loudness</th>\n",
       "      <th>mode</th>\n",
       "      <th>name</th>\n",
       "      <th>popularity</th>\n",
       "      <th>release_date</th>\n",
       "      <th>speechiness</th>\n",
       "      <th>tempo</th>\n",
       "      <th>valence</th>\n",
       "      <th>year</th>\n",
       "    </tr>\n",
       "  </thead>\n",
       "  <tbody>\n",
       "  </tbody>\n",
       "</table>\n",
       "</div>"
      ],
      "text/plain": [
       "Empty DataFrame\n",
       "Columns: [acousticness, artists, danceability, duration_ms, duration_minutes, energy, explicit, id, instrumentalness, key, liveness, loudness, mode, name, popularity, release_date, speechiness, tempo, valence, year]\n",
       "Index: []"
      ]
     },
     "execution_count": 11,
     "metadata": {},
     "output_type": "execute_result"
    }
   ],
   "source": [
    "spotify_population.head(0)"
   ]
  },
  {
   "cell_type": "code",
   "execution_count": 12,
   "id": "eecd4490",
   "metadata": {},
   "outputs": [
    {
     "name": "stdout",
     "output_type": "stream",
     "text": [
      "       acousticness                        artists  danceability  duration_ms  \\\n",
      "19444      0.000049          ['Silversun Pickups']         0.506     242133.0   \n",
      "4086       0.946000              ['Lewis Capaldi']         0.509     232837.0   \n",
      "15255      0.006430                   ['Aly & AJ']         0.457     177560.0   \n",
      "28739      0.011000        ['Panic! At The Disco']         0.578     180627.0   \n",
      "10568      0.049800                  ['Dead Prez']         0.733     228600.0   \n",
      "...             ...                            ...           ...          ...   \n",
      "35012      0.047200             ['Jennifer Lopez']         0.757     218235.0   \n",
      "11962      0.002220  ['Austin Mahone', 'Flo Rida']         0.738     182526.0   \n",
      "669        0.006770           ['Beyoncé', 'JAY-Z']         0.763     239960.0   \n",
      "36790      0.132000                       ['KYLE']         0.747     203489.0   \n",
      "13244      0.522000   ['John Mayer', 'Ben Harper']         0.544     171667.0   \n",
      "\n",
      "       duration_minutes  energy  explicit                      id  \\\n",
      "19444          4.035550   0.899       0.0  0dQnUUdHMoTQaaaoAotAZC   \n",
      "4086           3.880617   0.183       0.0  6H7fWtwEUHVfTyZD7zeG4w   \n",
      "15255          2.959333   0.577       0.0  0VRucsX8H6SP0ERtbpzEOc   \n",
      "28739          3.010450   0.886       0.0  6TzJLISIitIzn1WtjDY0Op   \n",
      "10568          3.810000   0.770       1.0  3O2eqXG8ZgedIDO1JcPM7K   \n",
      "...                 ...     ...       ...                     ...   \n",
      "35012          3.637250   0.678       0.0  2hgzdQdnfWwtdpZbhZlV72   \n",
      "11962          3.042100   0.743       0.0  1qzrXebgUeRjCagXFNECHe   \n",
      "669            3.999333   0.728       0.0  2MAyGB3UgAbbT1Fjc7b7aA   \n",
      "36790          3.391483   0.788       1.0  5ClEvUJwswqf61VTurn7yC   \n",
      "13244          2.861117   0.624       0.0  1BiJWoCw1xoYcZ76EO3IKV   \n",
      "\n",
      "       instrumentalness   key  liveness  loudness  mode  \\\n",
      "19444          0.005740   1.0    0.1620    -4.392   0.0   \n",
      "4086           0.000000  10.0    0.0914   -10.270   1.0   \n",
      "15255          0.000315   7.0    0.0813    -5.351   1.0   \n",
      "28739          0.000000  11.0    0.1430    -4.348   1.0   \n",
      "10568          0.000000   2.0    0.3430    -4.933   1.0   \n",
      "...                 ...   ...       ...       ...   ...   \n",
      "35012          0.000009   8.0    0.0654    -5.529   0.0   \n",
      "11962          0.000000   1.0    0.1340    -4.730   1.0   \n",
      "669            0.000012   7.0    0.0915    -4.944   1.0   \n",
      "36790          0.000000   9.0    0.0716    -4.909   0.0   \n",
      "13244          0.000003   2.0    0.3760    -6.593   1.0   \n",
      "\n",
      "                                                    name  popularity  \\\n",
      "19444                          Well Thought out Twinkles        40.0   \n",
      "4086   when the party's over - Recorded at Spotify St...        73.0   \n",
      "15255                          No One - Original Version        40.0   \n",
      "28739                                         Hallelujah        64.0   \n",
      "10568                                          Happiness        42.0   \n",
      "...                                                  ...         ...   \n",
      "35012                                    Ain't Your Mama        72.0   \n",
      "11962          Say You're Just a Friend (feat. Flo Rida)        55.0   \n",
      "669                                Deja Vu (feat. Jay-Z)        48.0   \n",
      "36790                            Sex & Super Smash Bros.        53.0   \n",
      "13244  Waiting On the World to Change (feat. Ben Harper)        49.0   \n",
      "\n",
      "      release_date  speechiness    tempo  valence    year  \n",
      "19444   2006-07-25       0.0344  122.163    0.534  2006.0  \n",
      "4086    2019-06-12       0.0377  117.354    0.258  2019.0  \n",
      "15255   2005-01-01       0.0264  158.597    0.321  2005.0  \n",
      "28739   2016-01-15       0.0633   80.008    0.615  2016.0  \n",
      "10568   2000-02-08       0.3660   88.414    0.580  2000.0  \n",
      "...            ...          ...      ...      ...     ...  \n",
      "35012   2016-04-07       0.2330  120.075    0.820  2016.0  \n",
      "11962         2014       0.0574   99.975    0.711  2014.0  \n",
      "669     2006-09-04       0.3260  105.923    0.362  2006.0  \n",
      "36790   2013-08-05       0.1810  116.994    0.765  2013.0  \n",
      "13244   2006-12-12       0.0954  175.321    0.619  2006.0  \n",
      "\n",
      "[1000 rows x 20 columns]\n",
      "3.8521519140899896\n",
      "3.8172754499999995\n"
     ]
    }
   ],
   "source": [
    "# Sample 1000 rows from spotify_population\n",
    "spotify_sample = spotify_population.sample(n=1000)\n",
    "\n",
    "# Print the sample\n",
    "print(spotify_sample)\n",
    "\n",
    "# Calculate the mean duration in mins from spotify_population\n",
    "mean_dur_pop = spotify_population[\"duration_minutes\"].mean()\n",
    "\n",
    "# Calculate the mean duration in mins from spotify_sample\n",
    "mean_dur_samp = spotify_sample[\"duration_minutes\"].mean()\n",
    "\n",
    "# Print the means\n",
    "print(mean_dur_pop)\n",
    "print(mean_dur_samp)"
   ]
  },
  {
   "cell_type": "code",
   "execution_count": 20,
   "id": "987073e9",
   "metadata": {},
   "outputs": [
    {
     "name": "stdout",
     "output_type": "stream",
     "text": [
      "15156    -4.124\n",
      "20880    -2.692\n",
      "25285   -12.092\n",
      "8974     -6.240\n",
      "36953    -5.457\n",
      "          ...  \n",
      "18965    -5.521\n",
      "36795    -3.453\n",
      "13766   -10.623\n",
      "26104   -11.371\n",
      "12281    -2.573\n",
      "Name: loudness, Length: 100, dtype: float64\n"
     ]
    }
   ],
   "source": [
    "# Subset the loudness column of spotify_population\n",
    "loudness_pop = spotify_population['loudness']\n",
    "\n",
    "# Sample 100 values of loudness_pop\n",
    "loudness_samp = loudness_pop.sample(n=100)\n",
    "\n",
    "# Print the sample\n",
    "print(loudness_samp)"
   ]
  },
  {
   "cell_type": "code",
   "execution_count": 21,
   "id": "bebb585c",
   "metadata": {},
   "outputs": [
    {
     "name": "stdout",
     "output_type": "stream",
     "text": [
      "-7.366856851353918\n",
      "-7.087630000000001\n"
     ]
    }
   ],
   "source": [
    "# Create a pandas Series from the loudness column of spotify_population\n",
    "loudness_pop = spotify_population['loudness']\n",
    "\n",
    "# Sample 100 values of loudness_pop\n",
    "loudness_samp = loudness_pop.sample(n=100)\n",
    "\n",
    "# Calculate the mean of loudness_pop\n",
    "mean_loudness_pop = np.mean(loudness_pop)\n",
    "\n",
    "# Calculate the mean of loudness_samp\n",
    "mean_loudness_samp = np.mean(loudness_samp)\n",
    "\n",
    "# Print the means\n",
    "print(mean_loudness_pop)\n",
    "print(mean_loudness_samp)"
   ]
  },
  {
   "cell_type": "code",
   "execution_count": 35,
   "id": "793c8d1f",
   "metadata": {},
   "outputs": [
    {
     "data": {
      "image/png": "[encoded data removed]",
      "text/plain": [
       "<Figure size 432x288 with 1 Axes>"
      ]
     },
     "metadata": {
      "needs_background": "light"
     },
     "output_type": "display_data"
    }
   ],
   "source": [
    "# Update the histogram to use spotify_mysterious_sample\n",
    "spotify_population['acousticness'].hist(bins=np.arange(0, 1.01, 0.01))\n",
    "plt.show()"
   ]
  },
  {
   "cell_type": "code",
   "execution_count": 36,
   "id": "65c4fff6",
   "metadata": {},
   "outputs": [
    {
     "data": {
      "image/png": "[encoded data removed]",
      "text/plain": [
       "<Figure size 432x288 with 1 Axes>"
      ]
     },
     "metadata": {
      "needs_background": "light"
     },
     "output_type": "display_data"
    }
   ],
   "source": [
    "spotify_population['duration_minutes'].hist(bins = np.arange(0,15.5,0.5))\n",
    "plt.show()"
   ]
  },
  {
   "cell_type": "code",
   "execution_count": 37,
   "id": "2f8d8853",
   "metadata": {},
   "outputs": [
    {
     "data": {
      "text/plain": [
       "array([0.61791626, 0.5907253 , 0.37095064, ..., 0.13671008, 0.44896111,\n",
       "       0.26999698])"
      ]
     },
     "execution_count": 37,
     "metadata": {},
     "output_type": "execute_result"
    }
   ],
   "source": [
    "np.random.uniform(low=0.0, high=1.0, size=5000)"
   ]
  },
  {
   "cell_type": "code",
   "execution_count": 38,
   "id": "87b09be8",
   "metadata": {},
   "outputs": [
    {
     "data": {
      "text/plain": [
       "array([3.1615406 , 3.79447446, 2.93184973, ..., 4.76319633, 2.57287133,\n",
       "       9.03182151])"
      ]
     },
     "execution_count": 38,
     "metadata": {},
     "output_type": "execute_result"
    }
   ],
   "source": [
    "np.random.normal(loc=5, scale=2, size=5000)"
   ]
  },
  {
   "cell_type": "code",
   "execution_count": 39,
   "id": "09b2db85",
   "metadata": {},
   "outputs": [],
   "source": [
    "uniforms = np.random.uniform(low=-3, high=3, size=5000)"
   ]
  },
  {
   "cell_type": "code",
   "execution_count": 50,
   "id": "ab828fe8",
   "metadata": {},
   "outputs": [
    {
     "data": {
      "image/png": "[encoded data removed]",
      "text/plain": [
       "<Figure size 432x288 with 1 Axes>"
      ]
     },
     "metadata": {
      "needs_background": "light"
     },
     "output_type": "display_data"
    }
   ],
   "source": [
    "plt.hist(uniforms, bins=np.arange(-3,3.25,0.25))\n",
    "plt.show()"
   ]
  },
  {
   "cell_type": "code",
   "execution_count": 51,
   "id": "b7d6269f",
   "metadata": {},
   "outputs": [],
   "source": [
    "normals = np.random.normal(loc=5, scale=2, size=5000)"
   ]
  },
  {
   "cell_type": "code",
   "execution_count": 53,
   "id": "a5ea8d7a",
   "metadata": {},
   "outputs": [
    {
     "data": {
      "image/png": "[encoded data removed]",
      "text/plain": [
       "<Figure size 432x288 with 1 Axes>"
      ]
     },
     "metadata": {
      "needs_background": "light"
     },
     "output_type": "display_data"
    }
   ],
   "source": [
    "# Plot a histogram of normal values, binwidth 0.5\n",
    "plt.hist(normals, np.arange(-2,13.5,0.5))\n",
    "plt.show()"
   ]
  },
  {
   "cell_type": "code",
   "execution_count": 54,
   "id": "7e76e49d",
   "metadata": {},
   "outputs": [],
   "source": [
    "np.random.seed(123)\n",
    "x = np.random.normal(size=5)\n",
    "y = np.random.normal(size=5)"
   ]
  },
  {
   "cell_type": "code",
   "execution_count": 55,
   "id": "718e8965",
   "metadata": {},
   "outputs": [
    {
     "data": {
      "text/plain": [
       "array([-1.0856306 ,  0.99734545,  0.2829785 , -1.50629471, -0.57860025])"
      ]
     },
     "execution_count": 55,
     "metadata": {},
     "output_type": "execute_result"
    }
   ],
   "source": [
    "x"
   ]
  },
  {
   "cell_type": "code",
   "execution_count": 56,
   "id": "baee29e1",
   "metadata": {},
   "outputs": [
    {
     "data": {
      "text/plain": [
       "array([ 1.65143654, -2.42667924, -0.42891263,  1.26593626, -0.8667404 ])"
      ]
     },
     "execution_count": 56,
     "metadata": {},
     "output_type": "execute_result"
    }
   ],
   "source": [
    "y"
   ]
  },
  {
   "cell_type": "code",
   "execution_count": 57,
   "id": "6fd83f6b",
   "metadata": {},
   "outputs": [],
   "source": [
    "np.random.seed(123)\n",
    "x = np.random.normal(size=5)\n",
    "np.random.seed(123)\n",
    "y = np.random.normal(size=5)"
   ]
  },
  {
   "cell_type": "code",
   "execution_count": 58,
   "id": "10137ced",
   "metadata": {},
   "outputs": [
    {
     "data": {
      "text/plain": [
       "array([-1.0856306 ,  0.99734545,  0.2829785 , -1.50629471, -0.57860025])"
      ]
     },
     "execution_count": 58,
     "metadata": {},
     "output_type": "execute_result"
    }
   ],
   "source": [
    "x"
   ]
  },
  {
   "cell_type": "code",
   "execution_count": 59,
   "id": "8b544cd8",
   "metadata": {},
   "outputs": [
    {
     "data": {
      "text/plain": [
       "array([-1.0856306 ,  0.99734545,  0.2829785 , -1.50629471, -0.57860025])"
      ]
     },
     "execution_count": 59,
     "metadata": {},
     "output_type": "execute_result"
    }
   ],
   "source": [
    "y"
   ]
  },
  {
   "cell_type": "code",
   "execution_count": null,
   "id": "c952cbe3",
   "metadata": {},
   "outputs": [],
   "source": []
  },
  {
   "cell_type": "code",
   "execution_count": null,
   "id": "7ca307bd",
   "metadata": {},
   "outputs": [],
   "source": []
  }
 ],
 "metadata": {
  "kernelspec": {
   "display_name": "Python 3 (ipykernel)",
   "language": "python",
   "name": "python3"
  },
  "language_info": {
   "codemirror_mode": {
    "name": "ipython",
    "version": 3
   },
   "file_extension": ".py",
   "mimetype": "text/x-python",
   "name": "python",
   "nbconvert_exporter": "python",
   "pygments_lexer": "ipython3",
   "version": "3.9.12"
  }
 },
 "nbformat": 4,
 "nbformat_minor": 5
}
