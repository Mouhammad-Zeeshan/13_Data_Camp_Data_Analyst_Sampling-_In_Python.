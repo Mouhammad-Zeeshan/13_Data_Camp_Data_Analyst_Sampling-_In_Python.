{
 "cells": [
  {
   "cell_type": "code",
   "execution_count": 1,
   "id": "d424d6cc",
   "metadata": {},
   "outputs": [],
   "source": [
    "import pandas as pd \n"
   ]
  },
  {
   "cell_type": "code",
   "execution_count": 2,
   "id": "b1bf0ce4",
   "metadata": {},
   "outputs": [],
   "source": [
    "# # Generate 1 bootstrap resample\n",
    "# spotify_1_resample = spotify_sample.sample(frac=1, replace=True)\n",
    "\n",
    "# # Print the resample\n",
    "# print(spotify_1_resample)"
   ]
  },
  {
   "cell_type": "code",
   "execution_count": 3,
   "id": "10517a9e",
   "metadata": {},
   "outputs": [],
   "source": [
    "# # Generate 1 bootstrap resample\n",
    "# spotify_1_resample = spotify_sample.sample(frac=1, replace=True)\n",
    "\n",
    "# # Calculate of the danceability column of spotify_1_resample\n",
    "# mean_danceability_1 = np.mean(spotify_1_resample['danceability'])\n",
    "\n",
    "# # Print the result\n",
    "# print(mean_danceability_1)"
   ]
  },
  {
   "cell_type": "code",
   "execution_count": 4,
   "id": "fdcdeaa5",
   "metadata": {},
   "outputs": [],
   "source": [
    "# # Replicate this 1000 times\n",
    "# mean_danceability_1000 = []\n",
    "# for i in range(1000):\n",
    "# \tmean_danceability_1000.append(\n",
    "#         np.mean(spotify_sample.sample(frac=1, replace=True)['danceability'])\n",
    "# \t)\n",
    "\n",
    "# # Draw a histogram of the resample means\n",
    "# plt.hist(mean_danceability_1000)\n",
    "# plt.show()"
   ]
  },
  {
   "cell_type": "code",
   "execution_count": 5,
   "id": "9f1f470d",
   "metadata": {},
   "outputs": [],
   "source": [
    "# mean_popularity_2000_samp = []\n",
    "\n",
    "# # Generate a sampling distribution of 2000 replicates\n",
    "# for i in range(2000):\n",
    "#     mean_popularity_2000_samp.append(\n",
    "#     \t# Sample 500 rows and calculate the mean popularity     \n",
    "#     \tspotify_population.sample(n=500)['popularity'].mean()\n",
    "#     )\n",
    "\n",
    "# # Print the sampling distribution results\n",
    "# print(mean_popularity_2000_samp)"
   ]
  },
  {
   "cell_type": "code",
   "execution_count": 6,
   "id": "b6a72d43",
   "metadata": {},
   "outputs": [],
   "source": [
    "# mean_popularity_2000_boot = []\n",
    "\n",
    "# # Generate a bootstrap distribution of 2000 replicates\n",
    "# for i in range(2000):\n",
    "#     mean_popularity_2000_boot.append(\n",
    "#     \t# Resample 500 rows and calculate the mean popularity\n",
    "#     \tspotify_sample.sample(n=500, replace=True)['popularity'].mean()\n",
    "#     )\n",
    "\n",
    "# # Print the bootstrap distribution results\n",
    "# print(mean_popularity_2000_boot)"
   ]
  },
  {
   "cell_type": "code",
   "execution_count": 7,
   "id": "87254e0c",
   "metadata": {},
   "outputs": [],
   "source": [
    "# # Calculate the population mean popularity\n",
    "# pop_mean = spotify_population['popularity'].mean()\n",
    "\n",
    "# # Calculate the original sample mean popularity\n",
    "# samp_mean = spotify_sample['popularity'].mean()\n",
    "\n",
    "# # Calculate the sampling dist'n estimate of mean popularity\n",
    "# samp_distn_mean = np.mean(sampling_distribution)\n",
    "\n",
    "# # Calculate the bootstrap dist'n estimate of mean popularity\n",
    "# boot_distn_mean = np.mean(bootstrap_distribution)\n",
    "\n",
    "# # Print the means\n",
    "# print([pop_mean, samp_mean, samp_distn_mean, boot_distn_mean])"
   ]
  },
  {
   "cell_type": "code",
   "execution_count": 8,
   "id": "03b88699",
   "metadata": {},
   "outputs": [],
   "source": [
    "# # Calculate the population std dev popularity\n",
    "# pop_sd = spotify_population['popularity'].std(ddof=0)\n",
    "\n",
    "# # Calculate the original sample std dev popularity\n",
    "# samp_sd = spotify_sample['popularity'].std()\n",
    "\n",
    "# # Calculate the sampling dist'n estimate of std dev popularity\n",
    "# samp_distn_sd = np.std(sampling_distribution, ddof=1) * np.sqrt(5000)\n",
    "\n",
    "# # Calculate the bootstrap dist'n estimate of std dev popularity\n",
    "# boot_distn_sd = np.std(bootstrap_distribution, ddof=1) * np.sqrt(5000)\n",
    "\n",
    "# # Print the standard deviations\n",
    "# print([pop_sd, samp_sd, samp_distn_sd, boot_distn_sd])"
   ]
  },
  {
   "cell_type": "code",
   "execution_count": 9,
   "id": "fd7638d7",
   "metadata": {},
   "outputs": [],
   "source": [
    "# # Generate a 95% confidence interval using the quantile method\n",
    "# lower_quant = np.quantile(bootstrap_distribution, 0.025)\n",
    "# upper_quant = np.quantile(bootstrap_distribution, 0.975)\n",
    "\n",
    "# # Print quantile method confidence interval\n",
    "# print((lower_quant, upper_quant))"
   ]
  },
  {
   "cell_type": "code",
   "execution_count": 10,
   "id": "c44645f0",
   "metadata": {},
   "outputs": [],
   "source": [
    "# # Find the mean and std dev of the bootstrap distribution\n",
    "# point_estimate = np.mean(bootstrap_distribution)\n",
    "# standard_error = np.std(bootstrap_distribution, ddof=1)\n",
    "\n",
    "# # Find the lower limit of the confidence interval\n",
    "# lower_se = norm.ppf(0.025, loc=point_estimate, scale=standard_error)\n",
    "\n",
    "# # Find the upper limit of the confidence interval\n",
    "# upper_se = norm.ppf(0.975, loc=point_estimate, scale=standard_error)\n",
    "\n",
    "# # Print standard error method confidence interval\n",
    "# print((lower_se, upper_se))"
   ]
  },
  {
   "cell_type": "code",
   "execution_count": null,
   "id": "78a2f796",
   "metadata": {},
   "outputs": [],
   "source": []
  },
  {
   "cell_type": "code",
   "execution_count": null,
   "id": "4e77397e",
   "metadata": {},
   "outputs": [],
   "source": []
  },
  {
   "cell_type": "code",
   "execution_count": null,
   "id": "8874f0d1",
   "metadata": {},
   "outputs": [],
   "source": []
  },
  {
   "cell_type": "code",
   "execution_count": null,
   "id": "33ebcf09",
   "metadata": {},
   "outputs": [],
   "source": []
  },
  {
   "cell_type": "code",
   "execution_count": null,
   "id": "b85e2d3a",
   "metadata": {},
   "outputs": [],
   "source": []
  },
  {
   "cell_type": "code",
   "execution_count": null,
   "id": "20e7db1e",
   "metadata": {},
   "outputs": [],
   "source": []
  }
 ],
 "metadata": {
  "kernelspec": {
   "display_name": "Python 3 (ipykernel)",
   "language": "python",
   "name": "python3"
  },
  "language_info": {
   "codemirror_mode": {
    "name": "ipython",
    "version": 3
   },
   "file_extension": ".py",
   "mimetype": "text/x-python",
   "name": "python",
   "nbconvert_exporter": "python",
   "pygments_lexer": "ipython3",
   "version": "3.9.12"
  }
 },
 "nbformat": 4,
 "nbformat_minor": 5
}
