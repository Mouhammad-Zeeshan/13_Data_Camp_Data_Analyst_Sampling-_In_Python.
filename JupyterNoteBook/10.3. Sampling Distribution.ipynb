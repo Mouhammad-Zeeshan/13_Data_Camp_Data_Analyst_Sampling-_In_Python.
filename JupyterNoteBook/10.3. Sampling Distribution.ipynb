{
 "cells": [
  {
   "cell_type": "code",
   "execution_count": 1,
   "id": "d424d6cc",
   "metadata": {},
   "outputs": [],
   "source": [
    "import pandas as pd\n",
    "import numpy as np\n",
    "import matplotlib.pyplot as plt"
   ]
  },
  {
   "cell_type": "code",
   "execution_count": 2,
   "id": "e5825122",
   "metadata": {},
   "outputs": [],
   "source": [
    "attrition_pop = pd.read_feather(r\"C:\\Muhammad Zeeshan\\ComputerAndProgramming\\Data Camp Journey\\02-Data Analyst with Python\\10 - Sampling in Python\\DataSet\\attrition.feather\")"
   ]
  },
  {
   "cell_type": "code",
   "execution_count": 10,
   "id": "4956d06a",
   "metadata": {},
   "outputs": [
    {
     "name": "stdout",
     "output_type": "stream",
     "text": [
      "Age                        99.837503\n",
      "Attrition                  62.784810\n",
      "DailyRate                  99.992523\n",
      "DistanceFromHome           99.347295\n",
      "HourlyRate                 99.908941\n",
      "JobLevel                   97.092947\n",
      "MonthlyIncome              99.999077\n",
      "MonthlyRate                99.999581\n",
      "NumCompaniesWorked         97.772165\n",
      "PercentSalaryHike          99.605510\n",
      "StockOptionLevel           92.442159\n",
      "TotalWorkingYears          99.468066\n",
      "TrainingTimesLastYear      97.856622\n",
      "YearsAtCompany             99.143856\n",
      "YearsInCurrentRole         98.581309\n",
      "YearsSinceLastPromotion    97.257463\n",
      "YearsWithCurrManager       98.544795\n",
      "dtype: float64\n"
     ]
    },
    {
     "name": "stderr",
     "output_type": "stream",
     "text": [
      "C:\\Users\\Muhammad Zeeshan\\AppData\\Local\\Temp\\ipykernel_8388\\1578355886.py:8: FutureWarning: Dropping of nuisance columns in DataFrame reductions (with 'numeric_only=None') is deprecated; in a future version this will raise TypeError.  Select only valid columns before calling the reduction.\n",
      "  rel_error_pct50 = 100 * abs(attrition_pop.mean() - mean_attrition_srs50) / attrition_pop.mean()\n"
     ]
    }
   ],
   "source": [
    "# Generate a simple random sample of 50 rows, with seed 2022\n",
    "attrition_srs50 = attrition_pop.sample(n=50, random_state=2022)\n",
    "\n",
    "# Calculate the mean employee attrition in the sample\n",
    "mean_attrition_srs50 = attrition_srs50['Attrition'].mean()\n",
    "\n",
    "# Calculate the relative error percentage\n",
    "rel_error_pct50 = 100 * abs(attrition_pop.mean() - mean_attrition_srs50) / attrition_pop.mean()\n",
    "\n",
    "# Print rel_error_pct50\n",
    "print(rel_error_pct50)"
   ]
  },
  {
   "cell_type": "code",
   "execution_count": 11,
   "id": "3a66ce46",
   "metadata": {},
   "outputs": [
    {
     "name": "stdout",
     "output_type": "stream",
     "text": [
      "[0.21666666666666667, 0.16666666666666666, 0.15, 0.13333333333333333, 0.08333333333333333]\n"
     ]
    }
   ],
   "source": [
    "# Create an empty list\n",
    "mean_attritions = list()\n",
    "# Loop 500 times to create 500 sample means\n",
    "for i in range(500):\n",
    "\tmean_attritions.append(\n",
    "    \tattrition_pop.sample(n=60)['Attrition'].mean()\n",
    "\t)\n",
    "  \n",
    "# Print out the first few entries of the list\n",
    "print(mean_attritions[0:5])"
   ]
  },
  {
   "cell_type": "code",
   "execution_count": 13,
   "id": "a83a0968",
   "metadata": {},
   "outputs": [
    {
     "data": {
      "image/png": "[encoded data removed]",
      "text/plain": [
       "<Figure size 432x288 with 1 Axes>"
      ]
     },
     "metadata": {
      "needs_background": "light"
     },
     "output_type": "display_data"
    }
   ],
   "source": [
    "plt.hist(mean_attritions, bins = 16)\n",
    "plt.show()"
   ]
  },
  {
   "cell_type": "code",
   "execution_count": 16,
   "id": "4665300c",
   "metadata": {},
   "outputs": [
    {
     "name": "stdout",
     "output_type": "stream",
     "text": [
      "4.2\n"
     ]
    }
   ],
   "source": [
    "# # Sample one to eight, five times, with replacement\n",
    "five_rolls = np.random.choice(list(range(1, 9)), size=5, replace=True)\n",
    "\n",
    "# Print the mean of five_rolls\n",
    "print(five_rolls.mean())"
   ]
  },
  {
   "cell_type": "code",
   "execution_count": 17,
   "id": "8b7cb7cc",
   "metadata": {},
   "outputs": [
    {
     "name": "stdout",
     "output_type": "stream",
     "text": [
      "[4.6, 3.6, 5.6, 6.0, 6.0, 4.4, 6.4, 6.2, 5.8, 4.2]\n"
     ]
    }
   ],
   "source": [
    "# Replicate the sampling code 1000 times\n",
    "sample_means_1000 = []\n",
    "for i in range(1000):\n",
    "    sample_means_1000.append(\n",
    "  \t\tnp.random.choice(list(range(1, 9)), size=5, replace=True).mean()\n",
    "    )\n",
    "\n",
    "# Print the first 10 entries of the result\n",
    "print(sample_means_1000[0:10])"
   ]
  },
  {
   "cell_type": "code",
   "execution_count": 18,
   "id": "8a4b7ad9",
   "metadata": {},
   "outputs": [
    {
     "data": {
      "image/png": "[encoded data removed]",
      "text/plain": [
       "<Figure size 432x288 with 1 Axes>"
      ]
     },
     "metadata": {
      "needs_background": "light"
     },
     "output_type": "display_data"
    }
   ],
   "source": [
    "# Replicate the sampling code 1000 times\n",
    "sample_means_1000 = []\n",
    "for i in range(1000):\n",
    "    sample_means_1000.append(\n",
    "  \t\tnp.random.choice(list(range(1, 9)), size=5, replace=True).mean()\n",
    "    )\n",
    "\n",
    "# Draw a histogram of sample_means_1000 with 20 bins\n",
    "plt.hist(sample_means_1000, bins=20)\n",
    "plt.show()"
   ]
  },
  {
   "cell_type": "code",
   "execution_count": 20,
   "id": "740030c9",
   "metadata": {},
   "outputs": [],
   "source": [
    "# # Calculate the mean of the mean attritions for each sampling distribution\n",
    "# mean_of_means_5 = np.mean(sampling_distribution_5)\n",
    "# mean_of_means_50 = np.mean(sampling_distribution_50)\n",
    "# mean_of_means_500 = np.mean(sampling_distribution_500)\n",
    "\n",
    "# # Print the results\n",
    "# print(mean_of_means_5)\n",
    "# print(mean_of_means_50)\n",
    "# print(mean_of_means_500)"
   ]
  },
  {
   "cell_type": "code",
   "execution_count": 21,
   "id": "4a61cce0",
   "metadata": {},
   "outputs": [],
   "source": [
    "# # Calculate the std. dev. of the mean attritions for each sampling distribution\n",
    "# sd_of_means_5 = np.std(sampling_distribution_5, ddof=1)\n",
    "# sd_of_means_50 = np.std(sampling_distribution_50, ddof=1)\n",
    "# sd_of_means_500 = np.std(sampling_distribution_500, ddof=1)\n",
    "\n",
    "# # Print the results\n",
    "# print(sd_of_means_5)\n",
    "# print(sd_of_means_50)\n",
    "# print(sd_of_means_500)"
   ]
  },
  {
   "cell_type": "code",
   "execution_count": null,
   "id": "4768b1f7",
   "metadata": {},
   "outputs": [],
   "source": []
  }
 ],
 "metadata": {
  "kernelspec": {
   "display_name": "Python 3 (ipykernel)",
   "language": "python",
   "name": "python3"
  },
  "language_info": {
   "codemirror_mode": {
    "name": "ipython",
    "version": 3
   },
   "file_extension": ".py",
   "mimetype": "text/x-python",
   "name": "python",
   "nbconvert_exporter": "python",
   "pygments_lexer": "ipython3",
   "version": "3.9.12"
  }
 },
 "nbformat": 4,
 "nbformat_minor": 5
}
